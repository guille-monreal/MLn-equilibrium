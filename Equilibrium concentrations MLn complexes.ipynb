{
 "cells": [
  {
   "cell_type": "markdown",
   "metadata": {},
   "source": [
    "All of the theory behind this is coming from this paper https://pubs.acs.org/doi/pdf/10.1021/ed070p568"
   ]
  },
  {
   "cell_type": "markdown",
   "metadata": {},
   "source": [
    "Goal: calculate equilibrium conditions in a stepwise M + L -> ML1 + ML2 ... + MLn complexation equilibrium using the bisection method\n",
    "\n",
    "Terminology: \n",
    "- $x$ = Free ligand\n",
    "- $L_{tot}$ = Total ligand\n",
    "- $c_{0}$ = Total metal\n",
    "- $f(x) = C_{0}/[M] = K_{0}x^{0} + K_{1}x^{1} + K_{2}x^{2} ... $ Important to note here that $K_{2}$ is what you would normally write as $k_{1}*k_{2}$, small ks being the equilibrium constants here\n",
    "- $g(x) = \\frac{\\sum{iK_{i}x^{i}}}{\\sum{K_{i}x^{i}}} = \\frac{xf'(x)}{f(x)}$   This one is the average number of ligands per complex\n",
    "- $y(x)$ = total ligand concentration (calculated). $y'(x) \\geq 1$. $y(x) = x + c_{0}g(x)$\n",
    "\n",
    "x is always in the interval $[x_{L}, x_{H}]$,\n",
    "\n",
    "where $x_H$ is $L_{tot}$ and $x_{L}$ is either $L_{tot} - nC_0$ ($L_{tot}$ minus the calculated number of bound ligands) or 0, whatever is biggest \n"
   ]
  },
  {
   "cell_type": "markdown",
   "metadata": {},
   "source": [
    "The bisection method means \n",
    "1. Start with the interval $[x_{L}, x_{H}]$\n",
    "- Find x in the middle of this interval \n",
    "- See if $y(x)$ is higher or lower than $L_{tot}$\n",
    "- If it's lower, restart with $[x, x_{H}]$, if it's higher restart with $[x_{L}, x]$\n",
    "- When it's good, $y(x)=L_{tot}$\n",
    "\n",
    "You can calculate the rest of the concentrations from x (See Equation 1 of the paper)"
   ]
  },
  {
   "cell_type": "code",
   "execution_count": 1,
   "metadata": {},
   "outputs": [],
   "source": [
    "import numpy as np\n",
    "import matplotlib.pyplot as plt\n",
    "from ipywidgets import interact\n",
    "import ipywidgets as widgets"
   ]
  },
  {
   "cell_type": "code",
   "execution_count": 2,
   "metadata": {},
   "outputs": [],
   "source": [
    "def general_bisect(interval,function,ref,*kwargs):\n",
    "    \"\"\"General function for the bisection algorithm. First argument should be an interval ([x_min,x_max]), second a function y(x) that requires x as a first argument, plus other arguments (*kwargs), third the value against which to compare y. The function will find the mid point in the interval, calculate y(x), compare it with ref, and repeat with a smaller interval until it homes in the right value\"\"\"\n",
    "    x=(interval[0]+interval[1])/2.0\n",
    "    #print(\"Trying x = \" + str(x))\n",
    "        \n",
    "    y=function(x,*kwargs)\n",
    "    #print(\"y(x) = \" + str(y))\n",
    "\n",
    "    #recursive until it's done\n",
    "    if round(y,2) == round(ref,2):   #rounding off because otherwise it took forever\n",
    "        #print(\"Done! x = \" + str(x))\n",
    "        return x\n",
    "    elif y < ref:\n",
    "        interval[0]=x\n",
    "        #print(\"Trying again, interval = \"+ str(interval))\n",
    "        return(general_bisect(interval,function,ref,*kwargs))\n",
    "    elif y > ref:\n",
    "        interval[1]=x\n",
    "        #print(\"Trying again, interval = \"+ str(interval))\n",
    "        return(general_bisect(interval,function,ref,*kwargs))"
   ]
  },
  {
   "cell_type": "code",
   "execution_count": 3,
   "metadata": {},
   "outputs": [],
   "source": [
    "def input_number(prompt):\n",
    "    \"\"\"Asks user for a number, doesn't stop until it receives a numeric value that it then converts to a float\"\"\"\n",
    "    user_input = input(prompt)\n",
    "    try:\n",
    "        float(user_input)\n",
    "        return float(user_input)\n",
    "    except ValueError:\n",
    "        print(\"Not a number, try again (use . as a decimal separator)\")\n",
    "        return input_number(prompt)"
   ]
  },
  {
   "cell_type": "code",
   "execution_count": 4,
   "metadata": {},
   "outputs": [],
   "source": [
    "def g_x(n, B_list,x):\n",
    "    g_top = 0\n",
    "    g_bottom = 0\n",
    "    for i in range(n+1):\n",
    "        g_top += i*B_list[i]*x**(i)\n",
    "        g_bottom += B_list[i]*x**(i)\n",
    "    #print(\"g(x) = \"+str(g_top)+\"/\"+str(g_bottom))\n",
    "    return (g_top/g_bottom)"
   ]
  },
  {
   "cell_type": "code",
   "execution_count": 5,
   "metadata": {},
   "outputs": [],
   "source": [
    "def y_x(x,c_0,n,B_list):\n",
    "    y = x + c_0*g_x(n, B_list,x)\n",
    "    #print(\"y(x) = \"+str(y))\n",
    "    return (y)"
   ]
  },
  {
   "cell_type": "markdown",
   "metadata": {},
   "source": [
    "This is enough for finding x, now to calculate all concentrations from it"
   ]
  },
  {
   "cell_type": "code",
   "execution_count": 6,
   "metadata": {},
   "outputs": [],
   "source": [
    "def MLn_calculate_everything_from_x(x,n,c_0,B_list):\n",
    "    results=[x]\n",
    "    \n",
    "    #Calculating everything using the equation (1) of the paper. First, f(x)\n",
    "    f_x = 0\n",
    "    for i in range(n+1):\n",
    "        f_x += B_list[i]*x**i\n",
    "    \n",
    "    #Second, calculate [MLi] for each i including 0 ([M]), and append each of them to the results list\n",
    "    for i in range(n+1):\n",
    "        MLi = (c_0*B_list[i]*x**i)/f_x\n",
    "        results.append(MLi)\n",
    "    \n",
    "    return(results)\n",
    "    "
   ]
  },
  {
   "cell_type": "markdown",
   "metadata": {},
   "source": [
    "All functions combined"
   ]
  },
  {
   "cell_type": "code",
   "execution_count": 7,
   "metadata": {},
   "outputs": [],
   "source": [
    "def MLn_calculate_everything(user_input=True,L_tot=10,c_0=10,n=2,logB_list=[]):\n",
    "    \"\"\"Wrapper of previous functions, with user input or input as arguments. If user_input=False, the program takes from the arguments the values of L_tot (Total concentration of ligand, mM), c_0 (Total concentration of metal, mM), n (number of binding equilibria), and B_list, a list of equilibrium constants [B1,B2...Bn] in units of mM-1,mM-2...mM-n.\n",
    "    \n",
    "    Returns a list of equilibrium concentrations (in mM) in this order: [Ligand, Metal, ML1, ML2 .... MLn]\"\"\"\n",
    "    \n",
    "    if(user_input):\n",
    "        L_tot = input_number(\"Total concentration of ligand (mM): \")\n",
    "        c_0 = input_number(\"Total concentration of metal (mM): \")\n",
    "        n = int(input_number(\"Number of possible binding equilibria: \"))\n",
    "        logB_list = [input_number(\"log B_\"+str(i+1)+\" (mM-\"+str(i+1)+\"): \") for i in range(n)]\n",
    "\n",
    "    B=1\n",
    "    B_list = [B]  #This includes what the paper calls K0, B0 in this case =1. It's necessary for the way in which we define g\n",
    "    for logB in logB_list:\n",
    "        B = 10**(logB)\n",
    "        B_list.append(B)\n",
    "\n",
    "    #Calculate initial interval\n",
    "    x_l=L_tot-n*c_0\n",
    "    if x_l<0:\n",
    "        x_l=0\n",
    "    x_h=L_tot\n",
    "\n",
    "    x=general_bisect([x_l,x_h],y_x,L_tot,c_0,n,B_list)\n",
    "\n",
    "    return(MLn_calculate_everything_from_x(x,n,c_0,B_list))\n",
    "    "
   ]
  },
  {
   "cell_type": "code",
   "execution_count": 8,
   "metadata": {},
   "outputs": [],
   "source": [
    "def MLn_plot_metal(user_input=True,L_tot=10,c_0_min=0,c_0_max=20,n=2,logB_list=[],n_points=100,plot_metal=False):\n",
    "    if(user_input):\n",
    "        L_tot = input_number(\"Total concentration of ligand (mM): \")\n",
    "        c_0_min = input_number(\"Lowest concentration of metal (mM): \")\n",
    "        c_0_max = input_number(\"Highest concentration of metal (mM): \")\n",
    "        n_points = int(input_number(\"Number of points to calculate: \"))\n",
    "        n = int(input_number(\"Number of possible binding equilibria: \"))\n",
    "        logB_list = [input_number(\"log B_\"+str(i+1)+\" (mM-\"+str(i+1)+\"): \") for i in range(n)]\n",
    "\n",
    "    x = [c_0_min+i*(c_0_max-c_0_min)/(n_points-1) for i in range(n_points)]\n",
    "    results = np.empty((0,n+2))\n",
    "    for i in x:\n",
    "        results = np.append(results,np.array([MLn_calculate_everything(user_input=False,L_tot=L_tot,c_0=i,n=n,logB_list=logB_list)]),axis=0)\n",
    "    plot = plt.figure()\n",
    "    plt.plot(x,results[:,0],label=\"[L]\")\n",
    "    if plot_metal:\n",
    "        plt.plot(x,results[:,1],label=\"[M]\")\n",
    "    for j in range(2,n+2):\n",
    "        label=\"[ML\"+str(j-1)+\"]\"\n",
    "        plt.plot(x,results[:,j],label=label)\n",
    "    plt.legend()\n",
    "    plt.xlabel(\"Total concentration of metal (mM)\")\n",
    "    plt.ylabel(\"Concentration of each species (mM)\")\n",
    "    plt.show()"
   ]
  },
  {
   "cell_type": "markdown",
   "metadata": {},
   "source": [
    "Interactive widget for terpyridines: considers a mono and a bis complex. The x axis of the graph goes to 1.5 the total concentration of terpyridine"
   ]
  },
  {
   "cell_type": "code",
   "execution_count": 11,
   "metadata": {
    "scrolled": true
   },
   "outputs": [
    {
     "data": {
      "application/vnd.jupyter.widget-view+json": {
       "model_id": "9f6f92e088644122a11dfdde78718e20",
       "version_major": 2,
       "version_minor": 0
      },
      "text/plain": [
       "interactive(children=(IntSlider(value=10, description='total_tPy', step=5), FloatSlider(value=5.0, description…"
      ]
     },
     "metadata": {},
     "output_type": "display_data"
    }
   ],
   "source": [
    "@interact(total_tPy=widgets.IntSlider(min=0,max=100,step=5,value=10),logK1=widgets.FloatSlider(min=-1,max=30,step=0.5,value=5),logB2=widgets.FloatSlider(min=-1,max=30,step=0.5,value=10))\n",
    "def basic_plot_individual_betas(total_tPy,logK1,logB2):\n",
    "    return (MLn_plot_metal(user_input=False,L_tot=total_tPy,c_0_min=0,n_points=25,c_0_max=total_tPy*1.5,logB_list=[logK1,logB2]))"
   ]
  },
  {
   "cell_type": "markdown",
   "metadata": {},
   "source": [
    "Run this one if you want the equilibrium concentrations of a specific system:"
   ]
  },
  {
   "cell_type": "code",
   "execution_count": null,
   "metadata": {},
   "outputs": [],
   "source": [
    "MLn_calculate_everything(user_input=True)"
   ]
  }
 ],
 "metadata": {
  "kernelspec": {
   "display_name": "Python 3",
   "language": "python",
   "name": "python3"
  },
  "language_info": {
   "codemirror_mode": {
    "name": "ipython",
    "version": 3
   },
   "file_extension": ".py",
   "mimetype": "text/x-python",
   "name": "python",
   "nbconvert_exporter": "python",
   "pygments_lexer": "ipython3",
   "version": "3.8.3"
  }
 },
 "nbformat": 4,
 "nbformat_minor": 4
}
